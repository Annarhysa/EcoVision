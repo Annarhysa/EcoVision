{
 "cells": [
  {
   "cell_type": "code",
   "execution_count": 1,
   "metadata": {},
   "outputs": [
    {
     "ename": "NameError",
     "evalue": "name 'session' is not defined",
     "output_type": "error",
     "traceback": [
      "\u001b[1;31m---------------------------------------------------------------------------\u001b[0m",
      "\u001b[1;31mNameError\u001b[0m                                 Traceback (most recent call last)",
      "Cell \u001b[1;32mIn[1], line 2\u001b[0m\n\u001b[0;32m      1\u001b[0m \u001b[39m#Optional step to delete session if you get an error that multiple sessions are open\u001b[39;00m\n\u001b[1;32m----> 2\u001b[0m \u001b[39mdel\u001b[39;00m session\n",
      "\u001b[1;31mNameError\u001b[0m: name 'session' is not defined"
     ]
    }
   ],
   "source": [
    "#Optional step to delete session if you get an error that multiple sessions are open\n",
    "del session"
   ]
  },
  {
   "cell_type": "markdown",
   "metadata": {},
   "source": [
    "# Initialize Notebook, import libraries and create Snowflake connection"
   ]
  },
  {
   "cell_type": "code",
   "execution_count": 16,
   "metadata": {},
   "outputs": [
    {
     "name": "stderr",
     "output_type": "stream",
     "text": [
      "2023-03-16 20:34:34.823 INFO    snowflake.connector.connection: Snowflake Connector for Python Version: 2.7.12, Python Version: 3.8.16, Platform: Windows-10-10.0.22621-SP0\n",
      "2023-03-16 20:34:34.823 INFO    snowflake.connector.connection: This connection is in OCSP Fail Open Mode. TLS Certificates would be checked for validity and revocation status. Any other Certificate Revocation related exceptions or OCSP Responder failures would be disregarded in favor of connectivity.\n",
      "2023-03-16 20:34:35.942 INFO    snowflake.snowpark.session: Snowpark Session information: \n",
      "\"version\" : 1.1.0,\n",
      "\"python.version\" : 3.8.16,\n",
      "\"python.connector.version\" : 2.7.12,\n",
      "\"python.connector.session.id\" : 15389347869,\n",
      "\"os.name\" : Windows\n",
      "\n",
      "2023-03-16 20:34:39.617 INFO    snowflake.connector.cursor: query: [select current_warehouse() wh, current_database() db, current_schema() schema, c...]\n",
      "2023-03-16 20:34:39.771 INFO    snowflake.connector.cursor: query execution done\n",
      "2023-03-16 20:34:39.771 INFO    snowflake.connector.cursor: query: [SELECT  *  FROM (select current_warehouse() wh, current_database() db, current_s...]\n",
      "2023-03-16 20:34:39.878 INFO    snowflake.connector.cursor: query execution done\n"
     ]
    },
    {
     "name": "stdout",
     "output_type": "stream",
     "text": [
      "----------------------------------------------\n",
      "|\"WH\"        |\"DB\"        |\"SCHEMA\"  |\"V\"    |\n",
      "----------------------------------------------\n",
      "|COMPUTE_WH  |SUMMIT_HOL  |PUBLIC    |7.9.0  |\n",
      "----------------------------------------------\n",
      "\n"
     ]
    }
   ],
   "source": [
    "from snowflake.snowpark.session import Session\n",
    "from snowflake.snowpark.types import IntegerType, FloatType\n",
    "from snowflake.snowpark.functions import avg, sum, col, udf, call_udf, call_builtin, year\n",
    "import streamlit as st\n",
    "import pandas as pd\n",
    "from datetime import date\n",
    "\n",
    "# scikit-learn (install: pip install -U scikit-learn)\n",
    "from sklearn.linear_model import LinearRegression\n",
    "\n",
    "# Session\n",
    "connection_parameters = {\n",
    "   \"account\": \"hq04573.ap-southeast-1\",\n",
    "   \"user\": \"anna21\",\n",
    "   \"password\": \"Bombay@123\",\n",
    "   \"warehouse\": \"compute_wh\",\n",
    "   \"role\": \"accountadmin\",\n",
    "   \"database\": \"summit_hol\",\n",
    "   \"schema\": \"public\"\n",
    "}\n",
    "session = Session.builder.configs(connection_parameters).create()\n",
    "\n",
    "\n",
    "# test if we have a connection\n",
    "session.sql(\"select current_warehouse() wh, current_database() db, current_schema() schema, current_version() v\").show()\n"
   ]
  },
  {
   "cell_type": "markdown",
   "metadata": {},
   "source": [
    "# Query the data"
   ]
  },
  {
   "cell_type": "code",
   "execution_count": 17,
   "metadata": {},
   "outputs": [
    {
     "name": "stderr",
     "output_type": "stream",
     "text": [
      "2023-03-16 20:35:30.521 INFO    snowflake.connector.cursor: query: [SELECT * FROM ECONOMY_DATA_ATLAS.ECONOMY.BEANIPA WHERE \"Table Name\" = 'Price Ind...]\n",
      "2023-03-16 20:35:30.826 INFO    snowflake.connector.cursor: query execution done\n",
      "2023-03-16 20:35:30.826 INFO    snowflake.connector.cursor: query: [SELECT  *  FROM (SELECT * FROM ECONOMY_DATA_ATLAS.ECONOMY.BEANIPA WHERE \"Table N...]\n",
      "2023-03-16 20:35:33.123 INFO    snowflake.connector.cursor: query execution done\n"
     ]
    },
    {
     "name": "stdout",
     "output_type": "stream",
     "text": [
      "----------------------------------------------------------------------------------------------------------------------------------------------------------------------------------------------------------------------------------------------------------------------------------------------------------------------------------------\n",
      "|\"Table\"  |\"Table Name\"                                        |\"Table Description\"  |\"Table Full Name\"                                   |\"Table Unit\"     |\"Indicator\"  |\"Indicator Name\"                         |\"Indicator Description\"  |\"Indicator Full Name\"  |\"Units\"          |\"Scale\"  |\"Frequency\"  |\"Date\"      |\"Value\"  |\n",
      "----------------------------------------------------------------------------------------------------------------------------------------------------------------------------------------------------------------------------------------------------------------------------------------------------------------------------------------\n",
      "|T20304   |Price Indexes For Personal Consumption Expendit...  |NULL                 |Table 2.3.4. Price Indexes For Personal Consump...  |Index, 2012=100  |DPCERG-1     |Personal consumption expenditures (PCE)  |NULL                     |NULL                   |Index, 2012=100  |1        |A            |1929-01-01  |9.296    |\n",
      "|T20304   |Price Indexes For Personal Consumption Expendit...  |NULL                 |Table 2.3.4. Price Indexes For Personal Consump...  |Index, 2012=100  |DPCERG-1     |Personal consumption expenditures (PCE)  |NULL                     |NULL                   |Index, 2012=100  |1        |A            |1930-01-01  |8.902    |\n",
      "|T20304   |Price Indexes For Personal Consumption Expendit...  |NULL                 |Table 2.3.4. Price Indexes For Personal Consump...  |Index, 2012=100  |DPCERG-1     |Personal consumption expenditures (PCE)  |NULL                     |NULL                   |Index, 2012=100  |1        |A            |1931-01-01  |7.949    |\n",
      "|T20304   |Price Indexes For Personal Consumption Expendit...  |NULL                 |Table 2.3.4. Price Indexes For Personal Consump...  |Index, 2012=100  |DPCERG-1     |Personal consumption expenditures (PCE)  |NULL                     |NULL                   |Index, 2012=100  |1        |A            |1932-01-01  |7.01     |\n",
      "|T20304   |Price Indexes For Personal Consumption Expendit...  |NULL                 |Table 2.3.4. Price Indexes For Personal Consump...  |Index, 2012=100  |DPCERG-1     |Personal consumption expenditures (PCE)  |NULL                     |NULL                   |Index, 2012=100  |1        |A            |1933-01-01  |6.761    |\n",
      "|T20304   |Price Indexes For Personal Consumption Expendit...  |NULL                 |Table 2.3.4. Price Indexes For Personal Consump...  |Index, 2012=100  |DPCERG-1     |Personal consumption expenditures (PCE)  |NULL                     |NULL                   |Index, 2012=100  |1        |A            |1934-01-01  |7.068    |\n",
      "|T20304   |Price Indexes For Personal Consumption Expendit...  |NULL                 |Table 2.3.4. Price Indexes For Personal Consump...  |Index, 2012=100  |DPCERG-1     |Personal consumption expenditures (PCE)  |NULL                     |NULL                   |Index, 2012=100  |1        |A            |1935-01-01  |7.242    |\n",
      "|T20304   |Price Indexes For Personal Consumption Expendit...  |NULL                 |Table 2.3.4. Price Indexes For Personal Consump...  |Index, 2012=100  |DPCERG-1     |Personal consumption expenditures (PCE)  |NULL                     |NULL                   |Index, 2012=100  |1        |A            |1936-01-01  |7.308    |\n",
      "|T20304   |Price Indexes For Personal Consumption Expendit...  |NULL                 |Table 2.3.4. Price Indexes For Personal Consump...  |Index, 2012=100  |DPCERG-1     |Personal consumption expenditures (PCE)  |NULL                     |NULL                   |Index, 2012=100  |1        |A            |1937-01-01  |7.575    |\n",
      "|T20304   |Price Indexes For Personal Consumption Expendit...  |NULL                 |Table 2.3.4. Price Indexes For Personal Consump...  |Index, 2012=100  |DPCERG-1     |Personal consumption expenditures (PCE)  |NULL                     |NULL                   |Index, 2012=100  |1        |A            |1938-01-01  |7.402    |\n",
      "----------------------------------------------------------------------------------------------------------------------------------------------------------------------------------------------------------------------------------------------------------------------------------------------------------------------------------------\n",
      "\n"
     ]
    }
   ],
   "source": [
    "# SQL query to explore the data\n",
    "session.sql(\"SELECT * FROM ECONOMY_DATA_ATLAS.ECONOMY.BEANIPA WHERE \\\"Table Name\\\" = 'Price Indexes For Personal Consumption Expenditures By Major Type Of Product' AND \\\"Indicator Name\\\" = 'Personal consumption expenditures (PCE)' AND \\\"Frequency\\\" = 'A' ORDER BY \\\"Date\\\"\").show()"
   ]
  },
  {
   "cell_type": "code",
   "execution_count": 18,
   "metadata": {},
   "outputs": [
    {
     "name": "stderr",
     "output_type": "stream",
     "text": [
      "2023-03-16 20:36:19.857 INFO    snowflake.connector.cursor: query: [SELECT  *  FROM ECONOMY_DATA_ATLAS.ECONOMY.BEANIPA]\n",
      "2023-03-16 20:36:20.170 INFO    snowflake.connector.cursor: query execution done\n",
      "2023-03-16 20:36:20.170 INFO    snowflake.connector.cursor: query: [SELECT  *  FROM ECONOMY_DATA_ATLAS.ECONOMY.BEANIPA WHERE ((((\"Table Name\" = 'Pri...]\n",
      "2023-03-16 20:36:21.922 INFO    snowflake.connector.cursor: query execution done\n"
     ]
    },
    {
     "name": "stdout",
     "output_type": "stream",
     "text": [
      "----------------------------------------------------------------------------------------------------------------------------------------------------------------------------------------------------------------------------------------------------------------------------------------------------------------------------------------\n",
      "|\"Table\"  |\"Table Name\"                                        |\"Table Description\"  |\"Table Full Name\"                                   |\"Table Unit\"     |\"Indicator\"  |\"Indicator Name\"                         |\"Indicator Description\"  |\"Indicator Full Name\"  |\"Units\"          |\"Scale\"  |\"Frequency\"  |\"Date\"      |\"Value\"  |\n",
      "----------------------------------------------------------------------------------------------------------------------------------------------------------------------------------------------------------------------------------------------------------------------------------------------------------------------------------------\n",
      "|T20304   |Price Indexes For Personal Consumption Expendit...  |NULL                 |Table 2.3.4. Price Indexes For Personal Consump...  |Index, 2012=100  |DPCERG-1     |Personal consumption expenditures (PCE)  |NULL                     |NULL                   |Index, 2012=100  |1        |A            |1972-01-01  |22.542   |\n",
      "|T20304   |Price Indexes For Personal Consumption Expendit...  |NULL                 |Table 2.3.4. Price Indexes For Personal Consump...  |Index, 2012=100  |DPCERG-1     |Personal consumption expenditures (PCE)  |NULL                     |NULL                   |Index, 2012=100  |1        |A            |1973-01-01  |23.756   |\n",
      "|T20304   |Price Indexes For Personal Consumption Expendit...  |NULL                 |Table 2.3.4. Price Indexes For Personal Consump...  |Index, 2012=100  |DPCERG-1     |Personal consumption expenditures (PCE)  |NULL                     |NULL                   |Index, 2012=100  |1        |A            |1974-01-01  |26.229   |\n",
      "|T20304   |Price Indexes For Personal Consumption Expendit...  |NULL                 |Table 2.3.4. Price Indexes For Personal Consump...  |Index, 2012=100  |DPCERG-1     |Personal consumption expenditures (PCE)  |NULL                     |NULL                   |Index, 2012=100  |1        |A            |1975-01-01  |28.415   |\n",
      "|T20304   |Price Indexes For Personal Consumption Expendit...  |NULL                 |Table 2.3.4. Price Indexes For Personal Consump...  |Index, 2012=100  |DPCERG-1     |Personal consumption expenditures (PCE)  |NULL                     |NULL                   |Index, 2012=100  |1        |A            |1976-01-01  |29.974   |\n",
      "|T20304   |Price Indexes For Personal Consumption Expendit...  |NULL                 |Table 2.3.4. Price Indexes For Personal Consump...  |Index, 2012=100  |DPCERG-1     |Personal consumption expenditures (PCE)  |NULL                     |NULL                   |Index, 2012=100  |1        |A            |1977-01-01  |31.923   |\n",
      "|T20304   |Price Indexes For Personal Consumption Expendit...  |NULL                 |Table 2.3.4. Price Indexes For Personal Consump...  |Index, 2012=100  |DPCERG-1     |Personal consumption expenditures (PCE)  |NULL                     |NULL                   |Index, 2012=100  |1        |A            |1978-01-01  |34.145   |\n",
      "|T20304   |Price Indexes For Personal Consumption Expendit...  |NULL                 |Table 2.3.4. Price Indexes For Personal Consump...  |Index, 2012=100  |DPCERG-1     |Personal consumption expenditures (PCE)  |NULL                     |NULL                   |Index, 2012=100  |1        |A            |1979-01-01  |37.178   |\n",
      "|T20304   |Price Indexes For Personal Consumption Expendit...  |NULL                 |Table 2.3.4. Price Indexes For Personal Consump...  |Index, 2012=100  |DPCERG-1     |Personal consumption expenditures (PCE)  |NULL                     |NULL                   |Index, 2012=100  |1        |A            |1980-01-01  |41.182   |\n",
      "|T20304   |Price Indexes For Personal Consumption Expendit...  |NULL                 |Table 2.3.4. Price Indexes For Personal Consump...  |Index, 2012=100  |DPCERG-1     |Personal consumption expenditures (PCE)  |NULL                     |NULL                   |Index, 2012=100  |1        |A            |1981-01-01  |44.871   |\n",
      "----------------------------------------------------------------------------------------------------------------------------------------------------------------------------------------------------------------------------------------------------------------------------------------------------------------------------------------\n",
      "\n"
     ]
    }
   ],
   "source": [
    "# Now use Snowpark dataframe\n",
    "snow_df_pce = (session.table(\"ECONOMY_DATA_ATLAS.ECONOMY.BEANIPA\") \n",
    "                            .filter(col('Table Name') == 'Price Indexes For Personal Consumption Expenditures By Major Type Of Product') \n",
    "                            .filter(col('Indicator Name') == 'Personal consumption expenditures (PCE)')\n",
    "                            .filter(col('\"Frequency\"') == 'A')\n",
    "                            .filter(col('\"Date\"') >= '1972-01-01'))\n",
    "snow_df_pce.show()"
   ]
  },
  {
   "cell_type": "code",
   "execution_count": 20,
   "metadata": {},
   "outputs": [
    {
     "name": "stderr",
     "output_type": "stream",
     "text": [
      "2023-03-16 20:36:54.678 INFO    snowflake.connector.cursor: query: [SELECT  *  FROM ECONOMY_DATA_ATLAS.ECONOMY.BEANIPA]\n",
      "2023-03-16 20:36:54.936 INFO    snowflake.connector.cursor: query execution done\n",
      "2023-03-16 20:36:54.944 INFO    snowflake.connector.cursor: query: [SELECT year(\"Date\") AS \"Year\", \"Value\" AS \"PCE\" FROM ( SELECT  *  FROM ECONOMY_D...]\n",
      "2023-03-16 20:36:55.146 INFO    snowflake.connector.cursor: query execution done\n"
     ]
    },
    {
     "ename": "SnowparkFetchDataException",
     "evalue": "(1406): Failed to fetch a Pandas Dataframe. The error is: 255002: 255002: Optional dependency: 'pandas' is not installed, please see the following link for install instructions: https://docs.snowflake.com/en/user-guide/python-connector-pandas.html#installation",
     "output_type": "error",
     "traceback": [
      "\u001b[1;31m---------------------------------------------------------------------------\u001b[0m",
      "\u001b[1;31mProgrammingError\u001b[0m                          Traceback (most recent call last)",
      "File \u001b[1;32mc:\\Users\\annar\\miniconda3\\envs\\snowpark\\lib\\site-packages\\snowflake\\snowpark\\_internal\\server_connection.py:371\u001b[0m, in \u001b[0;36mServerConnection._to_data_or_iter\u001b[1;34m(self, results_cursor, to_pandas, to_iter)\u001b[0m\n\u001b[0;32m    361\u001b[0m \u001b[39mtry\u001b[39;00m:\n\u001b[0;32m    362\u001b[0m     data_or_iter \u001b[39m=\u001b[39m (\n\u001b[0;32m    363\u001b[0m         \u001b[39mmap\u001b[39m(\n\u001b[0;32m    364\u001b[0m             functools\u001b[39m.\u001b[39mpartial(\n\u001b[0;32m    365\u001b[0m                 _fix_pandas_df_integer, results_cursor\u001b[39m=\u001b[39mresults_cursor\n\u001b[0;32m    366\u001b[0m             ),\n\u001b[0;32m    367\u001b[0m             results_cursor\u001b[39m.\u001b[39mfetch_pandas_batches(),\n\u001b[0;32m    368\u001b[0m         )\n\u001b[0;32m    369\u001b[0m         \u001b[39mif\u001b[39;00m to_iter\n\u001b[0;32m    370\u001b[0m         \u001b[39melse\u001b[39;00m _fix_pandas_df_integer(\n\u001b[1;32m--> 371\u001b[0m             results_cursor\u001b[39m.\u001b[39;49mfetch_pandas_all(), results_cursor\n\u001b[0;32m    372\u001b[0m         )\n\u001b[0;32m    373\u001b[0m     )\n\u001b[0;32m    374\u001b[0m \u001b[39mexcept\u001b[39;00m NotSupportedError:\n",
      "File \u001b[1;32mc:\\Users\\annar\\miniconda3\\envs\\snowpark\\lib\\site-packages\\snowflake\\connector\\cursor.py:982\u001b[0m, in \u001b[0;36mSnowflakeCursor.fetch_pandas_all\u001b[1;34m(self, **kwargs)\u001b[0m\n\u001b[0;32m    981\u001b[0m \u001b[39m\u001b[39m\u001b[39m\"\"\"Fetch Pandas dataframes in batches, where 'batch' refers to Snowflake Chunk.\"\"\"\u001b[39;00m\n\u001b[1;32m--> 982\u001b[0m \u001b[39mself\u001b[39;49m\u001b[39m.\u001b[39;49mcheck_can_use_pandas()\n\u001b[0;32m    983\u001b[0m \u001b[39mif\u001b[39;00m \u001b[39mself\u001b[39m\u001b[39m.\u001b[39m_prefetch_hook \u001b[39mis\u001b[39;00m \u001b[39mnot\u001b[39;00m \u001b[39mNone\u001b[39;00m:\n",
      "File \u001b[1;32mc:\\Users\\annar\\miniconda3\\envs\\snowpark\\lib\\site-packages\\snowflake\\connector\\cursor.py:906\u001b[0m, in \u001b[0;36mSnowflakeCursor.check_can_use_pandas\u001b[1;34m(self)\u001b[0m\n\u001b[0;32m    904\u001b[0m errno \u001b[39m=\u001b[39m ER_NO_PYARROW\n\u001b[1;32m--> 906\u001b[0m Error\u001b[39m.\u001b[39;49merrorhandler_wrapper(\n\u001b[0;32m    907\u001b[0m     \u001b[39mself\u001b[39;49m\u001b[39m.\u001b[39;49mconnection,\n\u001b[0;32m    908\u001b[0m     \u001b[39mself\u001b[39;49m,\n\u001b[0;32m    909\u001b[0m     ProgrammingError,\n\u001b[0;32m    910\u001b[0m     {\n\u001b[0;32m    911\u001b[0m         \u001b[39m\"\u001b[39;49m\u001b[39mmsg\u001b[39;49m\u001b[39m\"\u001b[39;49m: msg,\n\u001b[0;32m    912\u001b[0m         \u001b[39m\"\u001b[39;49m\u001b[39merrno\u001b[39;49m\u001b[39m\"\u001b[39;49m: errno,\n\u001b[0;32m    913\u001b[0m     },\n\u001b[0;32m    914\u001b[0m )\n",
      "File \u001b[1;32mc:\\Users\\annar\\miniconda3\\envs\\snowpark\\lib\\site-packages\\snowflake\\connector\\errors.py:276\u001b[0m, in \u001b[0;36mError.errorhandler_wrapper\u001b[1;34m(connection, cursor, error_class, error_value)\u001b[0m\n\u001b[0;32m    260\u001b[0m \u001b[39m\u001b[39m\u001b[39m\"\"\"Error handler wrapper that calls the errorhandler method.\u001b[39;00m\n\u001b[0;32m    261\u001b[0m \n\u001b[0;32m    262\u001b[0m \u001b[39mArgs:\u001b[39;00m\n\u001b[1;32m   (...)\u001b[0m\n\u001b[0;32m    273\u001b[0m \u001b[39m    exception to the first handler in that order.\u001b[39;00m\n\u001b[0;32m    274\u001b[0m \u001b[39m\"\"\"\u001b[39;00m\n\u001b[1;32m--> 276\u001b[0m handed_over \u001b[39m=\u001b[39m Error\u001b[39m.\u001b[39;49mhand_to_other_handler(\n\u001b[0;32m    277\u001b[0m     connection,\n\u001b[0;32m    278\u001b[0m     cursor,\n\u001b[0;32m    279\u001b[0m     error_class,\n\u001b[0;32m    280\u001b[0m     error_value,\n\u001b[0;32m    281\u001b[0m )\n\u001b[0;32m    282\u001b[0m \u001b[39mif\u001b[39;00m \u001b[39mnot\u001b[39;00m handed_over:\n",
      "File \u001b[1;32mc:\\Users\\annar\\miniconda3\\envs\\snowpark\\lib\\site-packages\\snowflake\\connector\\errors.py:331\u001b[0m, in \u001b[0;36mError.hand_to_other_handler\u001b[1;34m(connection, cursor, error_class, error_value)\u001b[0m\n\u001b[0;32m    330\u001b[0m cursor\u001b[39m.\u001b[39mmessages\u001b[39m.\u001b[39mappend((error_class, error_value))\n\u001b[1;32m--> 331\u001b[0m cursor\u001b[39m.\u001b[39;49merrorhandler(connection, cursor, error_class, error_value)\n\u001b[0;32m    332\u001b[0m \u001b[39mreturn\u001b[39;00m \u001b[39mTrue\u001b[39;00m\n",
      "File \u001b[1;32mc:\\Users\\annar\\miniconda3\\envs\\snowpark\\lib\\site-packages\\snowflake\\connector\\errors.py:210\u001b[0m, in \u001b[0;36mError.default_errorhandler\u001b[1;34m(connection, cursor, error_class, error_value)\u001b[0m\n\u001b[0;32m    199\u001b[0m \u001b[39m\u001b[39m\u001b[39m\"\"\"Default error handler that raises an error.\u001b[39;00m\n\u001b[0;32m    200\u001b[0m \n\u001b[0;32m    201\u001b[0m \u001b[39mArgs:\u001b[39;00m\n\u001b[1;32m   (...)\u001b[0m\n\u001b[0;32m    208\u001b[0m \u001b[39m    A Snowflake error.\u001b[39;00m\n\u001b[0;32m    209\u001b[0m \u001b[39m\"\"\"\u001b[39;00m\n\u001b[1;32m--> 210\u001b[0m \u001b[39mraise\u001b[39;00m error_class(\n\u001b[0;32m    211\u001b[0m     msg\u001b[39m=\u001b[39merror_value\u001b[39m.\u001b[39mget(\u001b[39m\"\u001b[39m\u001b[39mmsg\u001b[39m\u001b[39m\"\u001b[39m),\n\u001b[0;32m    212\u001b[0m     errno\u001b[39m=\u001b[39merror_value\u001b[39m.\u001b[39mget(\u001b[39m\"\u001b[39m\u001b[39merrno\u001b[39m\u001b[39m\"\u001b[39m),\n\u001b[0;32m    213\u001b[0m     sqlstate\u001b[39m=\u001b[39merror_value\u001b[39m.\u001b[39mget(\u001b[39m\"\u001b[39m\u001b[39msqlstate\u001b[39m\u001b[39m\"\u001b[39m),\n\u001b[0;32m    214\u001b[0m     sfqid\u001b[39m=\u001b[39merror_value\u001b[39m.\u001b[39mget(\u001b[39m\"\u001b[39m\u001b[39msfqid\u001b[39m\u001b[39m\"\u001b[39m),\n\u001b[0;32m    215\u001b[0m     done_format_msg\u001b[39m=\u001b[39merror_value\u001b[39m.\u001b[39mget(\u001b[39m\"\u001b[39m\u001b[39mdone_format_msg\u001b[39m\u001b[39m\"\u001b[39m),\n\u001b[0;32m    216\u001b[0m     connection\u001b[39m=\u001b[39mconnection,\n\u001b[0;32m    217\u001b[0m     cursor\u001b[39m=\u001b[39mcursor,\n\u001b[0;32m    218\u001b[0m )\n",
      "\u001b[1;31mProgrammingError\u001b[0m: 255002: 255002: Optional dependency: 'pandas' is not installed, please see the following link for install instructions: https://docs.snowflake.com/en/user-guide/python-connector-pandas.html#installation",
      "\nDuring handling of the above exception, another exception occurred:\n",
      "\u001b[1;31mSnowparkFetchDataException\u001b[0m                Traceback (most recent call last)",
      "Cell \u001b[1;32mIn[20], line 7\u001b[0m\n\u001b[0;32m      1\u001b[0m \u001b[39m# Let Snowflake perform filtering using the Snowpark pushdown and display results in a Pandas dataframe\u001b[39;00m\n\u001b[0;32m      2\u001b[0m snow_df_pce \u001b[39m=\u001b[39m (session\u001b[39m.\u001b[39mtable(\u001b[39m\"\u001b[39m\u001b[39mECONOMY_DATA_ATLAS.ECONOMY.BEANIPA\u001b[39m\u001b[39m\"\u001b[39m)\n\u001b[0;32m      3\u001b[0m                         \u001b[39m.\u001b[39mfilter(col(\u001b[39m'\u001b[39m\u001b[39m\"\u001b[39m\u001b[39mTable Name\u001b[39m\u001b[39m\"\u001b[39m\u001b[39m'\u001b[39m) \u001b[39m==\u001b[39m \u001b[39m'\u001b[39m\u001b[39mPrice Indexes For Personal Consumption Expenditures By Major Type Of Product\u001b[39m\u001b[39m'\u001b[39m)\n\u001b[0;32m      4\u001b[0m                         \u001b[39m.\u001b[39mfilter(col(\u001b[39m'\u001b[39m\u001b[39m\"\u001b[39m\u001b[39mIndicator Name\u001b[39m\u001b[39m\"\u001b[39m\u001b[39m'\u001b[39m) \u001b[39m==\u001b[39m \u001b[39m'\u001b[39m\u001b[39mPersonal consumption expenditures (PCE)\u001b[39m\u001b[39m'\u001b[39m)\n\u001b[0;32m      5\u001b[0m                         \u001b[39m.\u001b[39mfilter(col(\u001b[39m'\u001b[39m\u001b[39m\"\u001b[39m\u001b[39mFrequency\u001b[39m\u001b[39m\"\u001b[39m\u001b[39m'\u001b[39m) \u001b[39m==\u001b[39m \u001b[39m'\u001b[39m\u001b[39mA\u001b[39m\u001b[39m'\u001b[39m)\n\u001b[0;32m      6\u001b[0m                         \u001b[39m.\u001b[39mfilter(col(\u001b[39m'\u001b[39m\u001b[39m\"\u001b[39m\u001b[39mDate\u001b[39m\u001b[39m\"\u001b[39m\u001b[39m'\u001b[39m) \u001b[39m>\u001b[39m\u001b[39m=\u001b[39m \u001b[39m'\u001b[39m\u001b[39m1972-01-01\u001b[39m\u001b[39m'\u001b[39m))\n\u001b[1;32m----> 7\u001b[0m pd_df_pce_year \u001b[39m=\u001b[39m snow_df_pce\u001b[39m.\u001b[39;49mselect(year(col(\u001b[39m'\u001b[39;49m\u001b[39m\"\u001b[39;49m\u001b[39mDate\u001b[39;49m\u001b[39m\"\u001b[39;49m\u001b[39m'\u001b[39;49m))\u001b[39m.\u001b[39;49malias(\u001b[39m'\u001b[39;49m\u001b[39m\"\u001b[39;49m\u001b[39mYear\u001b[39;49m\u001b[39m\"\u001b[39;49m\u001b[39m'\u001b[39;49m), col(\u001b[39m'\u001b[39;49m\u001b[39m\"\u001b[39;49m\u001b[39mValue\u001b[39;49m\u001b[39m\"\u001b[39;49m\u001b[39m'\u001b[39;49m)\u001b[39m.\u001b[39;49malias(\u001b[39m'\u001b[39;49m\u001b[39mPCE\u001b[39;49m\u001b[39m'\u001b[39;49m) )\u001b[39m.\u001b[39;49mto_pandas()\n\u001b[0;32m      8\u001b[0m pd_df_pce_year\n",
      "File \u001b[1;32mc:\\Users\\annar\\miniconda3\\envs\\snowpark\\lib\\site-packages\\snowflake\\snowpark\\_internal\\telemetry.py:138\u001b[0m, in \u001b[0;36mdf_collect_api_telemetry.<locals>.wrap\u001b[1;34m(*args, **kwargs)\u001b[0m\n\u001b[0;32m    135\u001b[0m \u001b[39m@functools\u001b[39m\u001b[39m.\u001b[39mwraps(func)\n\u001b[0;32m    136\u001b[0m \u001b[39mdef\u001b[39;00m \u001b[39mwrap\u001b[39m(\u001b[39m*\u001b[39margs, \u001b[39m*\u001b[39m\u001b[39m*\u001b[39mkwargs):\n\u001b[0;32m    137\u001b[0m     \u001b[39mwith\u001b[39;00m args[\u001b[39m0\u001b[39m]\u001b[39m.\u001b[39m_session\u001b[39m.\u001b[39mquery_history() \u001b[39mas\u001b[39;00m query_history:\n\u001b[1;32m--> 138\u001b[0m         result \u001b[39m=\u001b[39m func(\u001b[39m*\u001b[39;49margs, \u001b[39m*\u001b[39;49m\u001b[39m*\u001b[39;49mkwargs)\n\u001b[0;32m    139\u001b[0m     plan \u001b[39m=\u001b[39m args[\u001b[39m0\u001b[39m]\u001b[39m.\u001b[39m_select_statement \u001b[39mor\u001b[39;00m args[\u001b[39m0\u001b[39m]\u001b[39m.\u001b[39m_plan\n\u001b[0;32m    140\u001b[0m     api_calls \u001b[39m=\u001b[39m [\n\u001b[0;32m    141\u001b[0m         \u001b[39m*\u001b[39mplan\u001b[39m.\u001b[39mapi_calls,\n\u001b[0;32m    142\u001b[0m         {TelemetryField\u001b[39m.\u001b[39mNAME\u001b[39m.\u001b[39mvalue: \u001b[39mf\u001b[39m\u001b[39m\"\u001b[39m\u001b[39mDataFrame.\u001b[39m\u001b[39m{\u001b[39;00mfunc\u001b[39m.\u001b[39m\u001b[39m__name__\u001b[39m\u001b[39m}\u001b[39;00m\u001b[39m\"\u001b[39m},\n\u001b[0;32m    143\u001b[0m     ]\n",
      "File \u001b[1;32mc:\\Users\\annar\\miniconda3\\envs\\snowpark\\lib\\site-packages\\snowflake\\snowpark\\dataframe.py:704\u001b[0m, in \u001b[0;36mDataFrame.to_pandas\u001b[1;34m(self, statement_params, block, **kwargs)\u001b[0m\n\u001b[0;32m    678\u001b[0m \u001b[39m@df_collect_api_telemetry\u001b[39m\n\u001b[0;32m    679\u001b[0m \u001b[39mdef\u001b[39;00m \u001b[39mto_pandas\u001b[39m(\n\u001b[0;32m    680\u001b[0m     \u001b[39mself\u001b[39m,\n\u001b[1;32m   (...)\u001b[0m\n\u001b[0;32m    684\u001b[0m     \u001b[39m*\u001b[39m\u001b[39m*\u001b[39mkwargs: Dict[\u001b[39mstr\u001b[39m, Any],\n\u001b[0;32m    685\u001b[0m ) \u001b[39m-\u001b[39m\u001b[39m>\u001b[39m Union[\u001b[39m\"\u001b[39m\u001b[39mpandas.DataFrame\u001b[39m\u001b[39m\"\u001b[39m, AsyncJob]:\n\u001b[0;32m    686\u001b[0m \u001b[39m    \u001b[39m\u001b[39m\"\"\"\u001b[39;00m\n\u001b[0;32m    687\u001b[0m \u001b[39m    Executes the query representing this DataFrame and returns the result as a\u001b[39;00m\n\u001b[0;32m    688\u001b[0m \u001b[39m    `Pandas DataFrame <https://pandas.pydata.org/pandas-docs/stable/reference/api/pandas.DataFrame.html>`_.\u001b[39;00m\n\u001b[1;32m   (...)\u001b[0m\n\u001b[0;32m    702\u001b[0m \u001b[39m        :func:`Session.sql` can only be a SELECT statement.\u001b[39;00m\n\u001b[0;32m    703\u001b[0m \u001b[39m    \"\"\"\u001b[39;00m\n\u001b[1;32m--> 704\u001b[0m     result \u001b[39m=\u001b[39m \u001b[39mself\u001b[39;49m\u001b[39m.\u001b[39;49m_session\u001b[39m.\u001b[39;49m_conn\u001b[39m.\u001b[39;49mexecute(\n\u001b[0;32m    705\u001b[0m         \u001b[39mself\u001b[39;49m\u001b[39m.\u001b[39;49m_plan,\n\u001b[0;32m    706\u001b[0m         to_pandas\u001b[39m=\u001b[39;49m\u001b[39mTrue\u001b[39;49;00m,\n\u001b[0;32m    707\u001b[0m         block\u001b[39m=\u001b[39;49mblock,\n\u001b[0;32m    708\u001b[0m         data_type\u001b[39m=\u001b[39;49m_AsyncResultType\u001b[39m.\u001b[39;49mPANDAS,\n\u001b[0;32m    709\u001b[0m         _statement_params\u001b[39m=\u001b[39;49mcreate_or_update_statement_params_with_query_tag(\n\u001b[0;32m    710\u001b[0m             statement_params, \u001b[39mself\u001b[39;49m\u001b[39m.\u001b[39;49m_session\u001b[39m.\u001b[39;49mquery_tag, SKIP_LEVELS_TWO\n\u001b[0;32m    711\u001b[0m         ),\n\u001b[0;32m    712\u001b[0m         \u001b[39m*\u001b[39;49m\u001b[39m*\u001b[39;49mkwargs,\n\u001b[0;32m    713\u001b[0m     )\n\u001b[0;32m    715\u001b[0m     \u001b[39m# if the returned result is not a pandas dataframe, raise Exception\u001b[39;00m\n\u001b[0;32m    716\u001b[0m     \u001b[39m# this might happen when calling this method with non-select commands\u001b[39;00m\n\u001b[0;32m    717\u001b[0m     \u001b[39m# e.g., session.sql(\"create ...\").to_pandas()\u001b[39;00m\n\u001b[0;32m    718\u001b[0m     \u001b[39mif\u001b[39;00m block:\n",
      "File \u001b[1;32mc:\\Users\\annar\\miniconda3\\envs\\snowpark\\lib\\site-packages\\snowflake\\snowpark\\_internal\\server_connection.py:406\u001b[0m, in \u001b[0;36mServerConnection.execute\u001b[1;34m(self, plan, to_pandas, to_iter, block, data_type, **kwargs)\u001b[0m\n\u001b[0;32m    402\u001b[0m \u001b[39mif\u001b[39;00m is_in_stored_procedure() \u001b[39mand\u001b[39;00m \u001b[39mnot\u001b[39;00m block:  \u001b[39m# pragma: no cover\u001b[39;00m\n\u001b[0;32m    403\u001b[0m     \u001b[39mraise\u001b[39;00m \u001b[39mNotImplementedError\u001b[39;00m(\n\u001b[0;32m    404\u001b[0m         \u001b[39m\"\u001b[39m\u001b[39mAsync query is not supported in stored procedure yet\u001b[39m\u001b[39m\"\u001b[39m\n\u001b[0;32m    405\u001b[0m     )\n\u001b[1;32m--> 406\u001b[0m result_set, result_meta \u001b[39m=\u001b[39m \u001b[39mself\u001b[39;49m\u001b[39m.\u001b[39;49mget_result_set(\n\u001b[0;32m    407\u001b[0m     plan, to_pandas, to_iter, \u001b[39m*\u001b[39;49m\u001b[39m*\u001b[39;49mkwargs, block\u001b[39m=\u001b[39;49mblock, data_type\u001b[39m=\u001b[39;49mdata_type\n\u001b[0;32m    408\u001b[0m )\n\u001b[0;32m    409\u001b[0m \u001b[39mif\u001b[39;00m \u001b[39mnot\u001b[39;00m block:\n\u001b[0;32m    410\u001b[0m     \u001b[39mreturn\u001b[39;00m result_set\n",
      "File \u001b[1;32mc:\\Users\\annar\\miniconda3\\envs\\snowpark\\lib\\site-packages\\snowflake\\snowpark\\_internal\\analyzer\\snowflake_plan.py:89\u001b[0m, in \u001b[0;36mSnowflakePlan.Decorator.wrap_exception.<locals>.wrap\u001b[1;34m(*args, **kwargs)\u001b[0m\n\u001b[0;32m     87\u001b[0m \u001b[39mdef\u001b[39;00m \u001b[39mwrap\u001b[39m(\u001b[39m*\u001b[39margs, \u001b[39m*\u001b[39m\u001b[39m*\u001b[39mkwargs):\n\u001b[0;32m     88\u001b[0m     \u001b[39mtry\u001b[39;00m:\n\u001b[1;32m---> 89\u001b[0m         \u001b[39mreturn\u001b[39;00m func(\u001b[39m*\u001b[39;49margs, \u001b[39m*\u001b[39;49m\u001b[39m*\u001b[39;49mkwargs)\n\u001b[0;32m     90\u001b[0m     \u001b[39mexcept\u001b[39;00m snowflake\u001b[39m.\u001b[39mconnector\u001b[39m.\u001b[39merrors\u001b[39m.\u001b[39mProgrammingError \u001b[39mas\u001b[39;00m e:\n\u001b[0;32m     91\u001b[0m         tb \u001b[39m=\u001b[39m sys\u001b[39m.\u001b[39mexc_info()[\u001b[39m2\u001b[39m]\n",
      "File \u001b[1;32mc:\\Users\\annar\\miniconda3\\envs\\snowpark\\lib\\site-packages\\snowflake\\snowpark\\_internal\\server_connection.py:494\u001b[0m, in \u001b[0;36mServerConnection.get_result_set\u001b[1;34m(self, plan, to_pandas, to_iter, block, data_type, **kwargs)\u001b[0m\n\u001b[0;32m    492\u001b[0m \u001b[39mfor\u001b[39;00m holder, id_ \u001b[39min\u001b[39;00m placeholders\u001b[39m.\u001b[39mitems():\n\u001b[0;32m    493\u001b[0m     final_query \u001b[39m=\u001b[39m final_query\u001b[39m.\u001b[39mreplace(holder, id_)\n\u001b[1;32m--> 494\u001b[0m result \u001b[39m=\u001b[39m \u001b[39mself\u001b[39;49m\u001b[39m.\u001b[39;49mrun_query(\n\u001b[0;32m    495\u001b[0m     final_query,\n\u001b[0;32m    496\u001b[0m     to_pandas,\n\u001b[0;32m    497\u001b[0m     to_iter \u001b[39mand\u001b[39;49;00m (i \u001b[39m==\u001b[39;49m \u001b[39mlen\u001b[39;49m(plan\u001b[39m.\u001b[39;49mqueries) \u001b[39m-\u001b[39;49m \u001b[39m1\u001b[39;49m),\n\u001b[0;32m    498\u001b[0m     is_ddl_on_temp_object\u001b[39m=\u001b[39;49mquery\u001b[39m.\u001b[39;49mis_ddl_on_temp_object,\n\u001b[0;32m    499\u001b[0m     block\u001b[39m=\u001b[39;49m\u001b[39mnot\u001b[39;49;00m is_last,\n\u001b[0;32m    500\u001b[0m     data_type\u001b[39m=\u001b[39;49mdata_type,\n\u001b[0;32m    501\u001b[0m     async_job_plan\u001b[39m=\u001b[39;49mplan,\n\u001b[0;32m    502\u001b[0m     \u001b[39m*\u001b[39;49m\u001b[39m*\u001b[39;49mkwargs,\n\u001b[0;32m    503\u001b[0m )\n\u001b[0;32m    504\u001b[0m placeholders[query\u001b[39m.\u001b[39mquery_id_place_holder] \u001b[39m=\u001b[39m (\n\u001b[0;32m    505\u001b[0m     result[\u001b[39m\"\u001b[39m\u001b[39msfqid\u001b[39m\u001b[39m\"\u001b[39m] \u001b[39mif\u001b[39;00m \u001b[39mnot\u001b[39;00m is_last \u001b[39melse\u001b[39;00m result\u001b[39m.\u001b[39mquery_id\n\u001b[0;32m    506\u001b[0m )\n\u001b[0;32m    507\u001b[0m result_meta \u001b[39m=\u001b[39m \u001b[39mself\u001b[39m\u001b[39m.\u001b[39m_cursor\u001b[39m.\u001b[39mdescription\n",
      "File \u001b[1;32mc:\\Users\\annar\\miniconda3\\envs\\snowpark\\lib\\site-packages\\snowflake\\snowpark\\_internal\\server_connection.py:104\u001b[0m, in \u001b[0;36mServerConnection._Decorator.wrap_exception.<locals>.wrap\u001b[1;34m(*args, **kwargs)\u001b[0m\n\u001b[0;32m    100\u001b[0m     \u001b[39mraise\u001b[39;00m SnowparkClientExceptionMessages\u001b[39m.\u001b[39mSERVER_SESSION_EXPIRED(\n\u001b[0;32m    101\u001b[0m         ex\u001b[39m.\u001b[39mcause\n\u001b[0;32m    102\u001b[0m     )\n\u001b[0;32m    103\u001b[0m \u001b[39mexcept\u001b[39;00m \u001b[39mException\u001b[39;00m \u001b[39mas\u001b[39;00m ex:\n\u001b[1;32m--> 104\u001b[0m     \u001b[39mraise\u001b[39;00m ex\n",
      "File \u001b[1;32mc:\\Users\\annar\\miniconda3\\envs\\snowpark\\lib\\site-packages\\snowflake\\snowpark\\_internal\\server_connection.py:98\u001b[0m, in \u001b[0;36mServerConnection._Decorator.wrap_exception.<locals>.wrap\u001b[1;34m(*args, **kwargs)\u001b[0m\n\u001b[0;32m     96\u001b[0m     \u001b[39mraise\u001b[39;00m SnowparkClientExceptionMessages\u001b[39m.\u001b[39mSERVER_SESSION_HAS_BEEN_CLOSED()\n\u001b[0;32m     97\u001b[0m \u001b[39mtry\u001b[39;00m:\n\u001b[1;32m---> 98\u001b[0m     \u001b[39mreturn\u001b[39;00m func(\u001b[39m*\u001b[39;49margs, \u001b[39m*\u001b[39;49m\u001b[39m*\u001b[39;49mkwargs)\n\u001b[0;32m     99\u001b[0m \u001b[39mexcept\u001b[39;00m ReauthenticationRequest \u001b[39mas\u001b[39;00m ex:\n\u001b[0;32m    100\u001b[0m     \u001b[39mraise\u001b[39;00m SnowparkClientExceptionMessages\u001b[39m.\u001b[39mSERVER_SESSION_EXPIRED(\n\u001b[0;32m    101\u001b[0m         ex\u001b[39m.\u001b[39mcause\n\u001b[0;32m    102\u001b[0m     )\n",
      "File \u001b[1;32mc:\\Users\\annar\\miniconda3\\envs\\snowpark\\lib\\site-packages\\snowflake\\snowpark\\_internal\\server_connection.py:341\u001b[0m, in \u001b[0;36mServerConnection.run_query\u001b[1;34m(self, query, to_pandas, to_iter, is_ddl_on_temp_object, block, data_type, async_job_plan, **kwargs)\u001b[0m\n\u001b[0;32m    335\u001b[0m \u001b[39m# fetch_pandas_all/batches() only works for SELECT statements\u001b[39;00m\n\u001b[0;32m    336\u001b[0m \u001b[39m# We call fetchall() if fetch_pandas_all/batches() fails,\u001b[39;00m\n\u001b[0;32m    337\u001b[0m \u001b[39m# because when the query plan has multiple queries, it will\u001b[39;00m\n\u001b[0;32m    338\u001b[0m \u001b[39m# have non-select statements, and it shouldn't fail if the user\u001b[39;00m\n\u001b[0;32m    339\u001b[0m \u001b[39m# calls to_pandas() to execute the query.\u001b[39;00m\n\u001b[0;32m    340\u001b[0m \u001b[39mif\u001b[39;00m block:\n\u001b[1;32m--> 341\u001b[0m     \u001b[39mreturn\u001b[39;00m \u001b[39mself\u001b[39;49m\u001b[39m.\u001b[39;49m_to_data_or_iter(\n\u001b[0;32m    342\u001b[0m         results_cursor\u001b[39m=\u001b[39;49mresults_cursor, to_pandas\u001b[39m=\u001b[39;49mto_pandas, to_iter\u001b[39m=\u001b[39;49mto_iter\n\u001b[0;32m    343\u001b[0m     )\n\u001b[0;32m    344\u001b[0m \u001b[39melse\u001b[39;00m:\n\u001b[0;32m    345\u001b[0m     \u001b[39mreturn\u001b[39;00m AsyncJob(\n\u001b[0;32m    346\u001b[0m         results_cursor[\u001b[39m\"\u001b[39m\u001b[39mqueryId\u001b[39m\u001b[39m\"\u001b[39m],\n\u001b[0;32m    347\u001b[0m         query,\n\u001b[1;32m   (...)\u001b[0m\n\u001b[0;32m    351\u001b[0m         \u001b[39m*\u001b[39m\u001b[39m*\u001b[39mkwargs,\n\u001b[0;32m    352\u001b[0m     )\n",
      "File \u001b[1;32mc:\\Users\\annar\\miniconda3\\envs\\snowpark\\lib\\site-packages\\snowflake\\snowpark\\_internal\\server_connection.py:381\u001b[0m, in \u001b[0;36mServerConnection._to_data_or_iter\u001b[1;34m(self, results_cursor, to_pandas, to_iter)\u001b[0m\n\u001b[0;32m    379\u001b[0m         \u001b[39mraise\u001b[39;00m\n\u001b[0;32m    380\u001b[0m     \u001b[39mexcept\u001b[39;00m \u001b[39mBaseException\u001b[39;00m \u001b[39mas\u001b[39;00m ex:\n\u001b[1;32m--> 381\u001b[0m         \u001b[39mraise\u001b[39;00m SnowparkClientExceptionMessages\u001b[39m.\u001b[39mSERVER_FAILED_FETCH_PANDAS(\n\u001b[0;32m    382\u001b[0m             \u001b[39mstr\u001b[39m(ex)\n\u001b[0;32m    383\u001b[0m         )\n\u001b[0;32m    384\u001b[0m \u001b[39melse\u001b[39;00m:\n\u001b[0;32m    385\u001b[0m     data_or_iter \u001b[39m=\u001b[39m (\n\u001b[0;32m    386\u001b[0m         \u001b[39miter\u001b[39m(results_cursor) \u001b[39mif\u001b[39;00m to_iter \u001b[39melse\u001b[39;00m results_cursor\u001b[39m.\u001b[39mfetchall()\n\u001b[0;32m    387\u001b[0m     )\n",
      "\u001b[1;31mSnowparkFetchDataException\u001b[0m: (1406): Failed to fetch a Pandas Dataframe. The error is: 255002: 255002: Optional dependency: 'pandas' is not installed, please see the following link for install instructions: https://docs.snowflake.com/en/user-guide/python-connector-pandas.html#installation"
     ]
    }
   ],
   "source": [
    "# Let Snowflake perform filtering using the Snowpark pushdown and display results in a Pandas dataframe\n",
    "snow_df_pce = (session.table(\"ECONOMY_DATA_ATLAS.ECONOMY.BEANIPA\")\n",
    "                        .filter(col('\"Table Name\"') == 'Price Indexes For Personal Consumption Expenditures By Major Type Of Product')\n",
    "                        .filter(col('\"Indicator Name\"') == 'Personal consumption expenditures (PCE)')\n",
    "                        .filter(col('\"Frequency\"') == 'A')\n",
    "                        .filter(col('\"Date\"') >= '1972-01-01'))\n",
    "pd_df_pce_year = snow_df_pce.select(year(col('\"Date\"')).alias('\"Year\"'), col('\"Value\"').alias('PCE') ).to_pandas()\n",
    "pd_df_pce_year\n"
   ]
  },
  {
   "cell_type": "markdown",
   "metadata": {},
   "source": [
    "# Train the Linear Regression model"
   ]
  },
  {
   "cell_type": "code",
   "execution_count": null,
   "metadata": {},
   "outputs": [],
   "source": [
    "# train model with PCE index\n",
    "\n",
    "x = pd_df_pce_year[\"Year\"].to_numpy().reshape(-1,1)\n",
    "y = pd_df_pce_year[\"PCE\"].to_numpy()\n",
    "\n",
    "model = LinearRegression().fit(x, y)\n",
    "\n",
    "# test model for 2022\n",
    "predictYear = 2022\n",
    "pce_pred = model.predict([[predictYear]])\n",
    "# print the last 5 years\n",
    "print (pd_df_pce_year.tail() )\n",
    "# run the prediction for 2022\n",
    "print ('Prediction for '+str(predictYear)+': '+ str(round(pce_pred[0],2)))\n"
   ]
  },
  {
   "cell_type": "markdown",
   "metadata": {},
   "source": [
    "### Creating a User Defined Function within Snowflake to do the scoring there"
   ]
  },
  {
   "cell_type": "code",
   "execution_count": null,
   "metadata": {},
   "outputs": [],
   "source": [
    "def predict_pce(predictYear: int) -> float:\n",
    "    return model.predict([[predictYear]])[0].round(2).astype(float)\n",
    "\n",
    "_ = session.udf.register(predict_pce,\n",
    "                        return_type=FloatType(),\n",
    "                        input_type=IntegerType(),\n",
    "                        packages= [\"pandas\",\"scikit-learn\"],\n",
    "                        is_permanent=True, \n",
    "                        name=\"predict_pce_udf\", \n",
    "                        replace=True,\n",
    "                        stage_location=\"@udf_stage\")"
   ]
  },
  {
   "cell_type": "markdown",
   "metadata": {},
   "source": [
    "# Test the trained model by invoking the UDF via a SQL statement"
   ]
  },
  {
   "cell_type": "code",
   "execution_count": null,
   "metadata": {},
   "outputs": [],
   "source": [
    "session.sql(\"select predict_pce_udf(2022)\").show()\n"
   ]
  }
 ],
 "metadata": {
  "interpreter": {
   "hash": "5b98838a36a1bf359ee115d54329302090fcdf6f49377588f49b385a9a18b1c4"
  },
  "kernelspec": {
   "display_name": "Python 3.8.13 ('snowpark')",
   "language": "python",
   "name": "python3"
  },
  "language_info": {
   "codemirror_mode": {
    "name": "ipython",
    "version": 3
   },
   "file_extension": ".py",
   "mimetype": "text/x-python",
   "name": "python",
   "nbconvert_exporter": "python",
   "pygments_lexer": "ipython3",
   "version": "3.8.16"
  },
  "orig_nbformat": 4
 },
 "nbformat": 4,
 "nbformat_minor": 2
}
